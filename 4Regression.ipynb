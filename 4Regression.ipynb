{
 "cells": [
  {
   "cell_type": "code",
   "execution_count": 1,
   "id": "52b426d3-3967-4f15-862b-b0148cedd70a",
   "metadata": {},
   "outputs": [],
   "source": [
    "import numpy as np\n",
    "\n",
    "from sklearn.model_selection import train_test_split\n",
    "from sklearn.linear_model import LinearRegression, Ridge, ElasticNet\n",
    "from sklearn.preprocessing import StandardScaler\n",
    "from sklearn.pipeline import Pipeline\n",
    "from sklearn.metrics import r2_score\n",
    "from sklearn.svm import SVR\n",
    "from sklearn.model_selection import RandomizedSearchCV, GridSearchCV"
   ]
  },
  {
   "cell_type": "code",
   "execution_count": 3,
   "id": "a088879d-e4b7-4a69-a247-e78032129817",
   "metadata": {},
   "outputs": [],
   "source": [
    "X = np.load(\"src/data/regression/inputs.npy\")\n",
    "y = np.load(\"src/data/regression/labels.npy\")"
   ]
  },
  {
   "cell_type": "code",
   "execution_count": 4,
   "id": "ab571ceb-e7a0-4cda-8e8e-b3f7633d02a3",
   "metadata": {},
   "outputs": [
    {
     "name": "stdout",
     "output_type": "stream",
     "text": [
      "Shape of X: (1000, 20)\n"
     ]
    }
   ],
   "source": [
    "print(f\"Shape of X: {X.shape}\")"
   ]
  },
  {
   "cell_type": "code",
   "execution_count": 5,
   "id": "335e4bed-ed45-4b6a-8683-95e5b05e765d",
   "metadata": {},
   "outputs": [],
   "source": [
    "class FitModelRegression:\n",
    "    def __init__(self, X, y):\n",
    "        self.X_train, self.X_test, self.y_train, self.y_test = train_test_split(X, y, random_state=20)\n",
    "        \n",
    "        self.pipeline = Pipeline([('scaler', StandardScaler())])\n",
    "        self.pipeline.fit(self.X_train, self.y_train)\n",
    "        \n",
    "        self.X_train = self.pipeline.transform(self.X_train)\n",
    "        self.X_test = self.pipeline.transform(self.X_test)\n",
    "        \n",
    "    def find_best_model(self, model, params, random=False):\n",
    "        if not random:\n",
    "            grid_search = GridSearchCV(model, params, cv=5, scoring='r2', return_train_score=True, n_jobs=-1)\n",
    "            grid_search.fit(self.X_train, self.y_train.flatten())\n",
    "            return grid_search\n",
    "\n",
    "        rnd_search = RandomizedSearchCV(model, param_distributions=params, n_iter=200, cv=5, scoring='r2', random_state=20)\n",
    "        rnd_search.fit(self.X_train, self.y_train.flatten())\n",
    "\n",
    "        return rnd_search\n",
    "    \n",
    "    def fit_new_model(self, model, params, name, random=False):\n",
    "        best_model = self.find_best_model(model, params, random)\n",
    "        print(f\"{name} best model: {best_model.best_params_}\")\n",
    "        \n",
    "        y_train_pred = best_model.predict(self.X_train)\n",
    "        y_test_pred = best_model.predict(self.X_test)\n",
    "    \n",
    "        print(f\"{name} R2 Score: Train = {r2_score(self.y_train, y_train_pred)} | \"\n",
    "              f\"Test = {r2_score(self.y_test, y_test_pred)}\")\n",
    "        \n",
    "        return Pipeline([('pipeline', self.pipeline), (name, best_model.best_estimator_)])"
   ]
  },
  {
   "cell_type": "code",
   "execution_count": 6,
   "id": "4e61c8da-12b4-40e9-a11e-e2b9fbfe86ce",
   "metadata": {},
   "outputs": [],
   "source": [
    "model_regression = FitModelRegression(X, y)"
   ]
  },
  {
   "cell_type": "code",
   "execution_count": 7,
   "id": "8772a85f-c9d3-472d-b004-9bbff2a55dba",
   "metadata": {},
   "outputs": [
    {
     "name": "stdout",
     "output_type": "stream",
     "text": [
      "Linear Regression best model: {}\n",
      "Linear Regression R2 Score: Train = 0.9007859535154005 | Test = 0.8865476326734985\n"
     ]
    }
   ],
   "source": [
    "lr_pipeline = model_regression.fit_new_model(LinearRegression(), dict(), \"Linear Regression\")"
   ]
  },
  {
   "cell_type": "code",
   "execution_count": 8,
   "id": "8eea030a-e49c-4db9-81d6-005d0102c95d",
   "metadata": {},
   "outputs": [
    {
     "name": "stdout",
     "output_type": "stream",
     "text": [
      "Ridge best model: {'alpha': 1.09, 'solver': 'svd'}\n",
      "Ridge R2 Score: Train = 0.9001967592907093 | Test = 0.8878966911309424\n"
     ]
    }
   ],
   "source": [
    "params_rigde = [\n",
    "    {\"alpha\": np.arange(0.01, 5, 0.01), \"solver\": [\"svd\", \"cholesky\", \"lsqr\", \"sparse_cg\", \"sag\", \"saga\"]}\n",
    "]\n",
    "ridge_pipeline = model_regression.fit_new_model(Ridge(random_state=20), params_rigde, \"Ridge\")"
   ]
  },
  {
   "cell_type": "code",
   "execution_count": 9,
   "id": "aa796800-5b13-4d5a-a67c-2a252ae3d901",
   "metadata": {},
   "outputs": [
    {
     "name": "stdout",
     "output_type": "stream",
     "text": [
      "SVR best model: {'kernel': 'linear', 'epsilon': 0.2, 'C': 1.9499999999999997}\n",
      "SVR R2 Score: Train = 0.8983426278796205 | Test = 0.8848307085353998\n"
     ]
    }
   ],
   "source": [
    "params_SVR = [\n",
    "    {\"C\": np.arange(0.01, 2, 0.02),\n",
    "     \"kernel\": [\"linear\", \"rbf\", \"sigmoid\"],\n",
    "     \"epsilon\": np.arange(0.1, 1, 0.1),\n",
    "    }\n",
    "]\n",
    "svr_pipeline = model_regression.fit_new_model(SVR(), params_SVR, \"SVR\", random=True)"
   ]
  },
  {
   "cell_type": "code",
   "execution_count": 10,
   "id": "9c70edba-4ea0-4f3f-b9fc-47c89effcb08",
   "metadata": {},
   "outputs": [
    {
     "name": "stdout",
     "output_type": "stream",
     "text": [
      "ElasticNet best model: {'alpha': 0.32999999999999996, 'l1_ratio': 1.0}\n",
      "ElasticNet R2 Score: Train = 0.8994901503005939 | Test = 0.8890421382247459\n"
     ]
    }
   ],
   "source": [
    "params_en = [\n",
    "    {\"alpha\": np.arange(0.01, 2, 0.02), \"l1_ratio\": np.arange(0.01, 1.01, 0.01)}\n",
    "]\n",
    "en_pipeline = model_regression.fit_new_model(ElasticNet(random_state=20, max_iter=10000), params_en, \"ElasticNet\")"
   ]
  },
  {
   "cell_type": "code",
   "execution_count": null,
   "id": "53619ac9-bb0d-4b0d-a8d6-3194a6ef84dd",
   "metadata": {},
   "outputs": [],
   "source": []
  },
  {
   "cell_type": "code",
   "execution_count": null,
   "id": "3739cb49-ea05-472f-93be-715b997fe1ae",
   "metadata": {},
   "outputs": [],
   "source": []
  }
 ],
 "metadata": {
  "kernelspec": {
   "display_name": "Python 3 (ipykernel)",
   "language": "python",
   "name": "python3"
  },
  "language_info": {
   "codemirror_mode": {
    "name": "ipython",
    "version": 3
   },
   "file_extension": ".py",
   "mimetype": "text/x-python",
   "name": "python",
   "nbconvert_exporter": "python",
   "pygments_lexer": "ipython3",
   "version": "3.9.7"
  }
 },
 "nbformat": 4,
 "nbformat_minor": 5
}
