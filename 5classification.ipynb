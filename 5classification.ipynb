{
 "cells": [
  {
   "cell_type": "code",
   "execution_count": 1,
   "id": "f4f2527c-00cd-48a2-a2ac-cce9108d6b9f",
   "metadata": {},
   "outputs": [],
   "source": [
    "import numpy as np\n",
    "\n",
    "from sklearn.model_selection import train_test_split\n",
    "from sklearn.linear_model import LogisticRegression, RidgeClassifier, Perceptron\n",
    "from sklearn.preprocessing import StandardScaler\n",
    "from sklearn.pipeline import Pipeline\n",
    "from sklearn.metrics import accuracy_score\n",
    "from sklearn.svm import SVC\n",
    "from sklearn.model_selection import RandomizedSearchCV, GridSearchCV\n",
    "from sklearn.neighbors import KNeighborsClassifier"
   ]
  },
  {
   "cell_type": "code",
   "execution_count": 2,
   "id": "f3d15272-bad6-415e-a3a5-327a39627ff8",
   "metadata": {},
   "outputs": [],
   "source": [
    "X = np.load(\"src/data/classification/inputs.npy\")\n",
    "y = np.load(\"src/data/classification/labels.npy\")"
   ]
  },
  {
   "cell_type": "code",
   "execution_count": 3,
   "id": "5573f728-2269-4262-9a0e-674ef56137e2",
   "metadata": {},
   "outputs": [
    {
     "name": "stdout",
     "output_type": "stream",
     "text": [
      "Shape of X: (1000, 20)\n"
     ]
    }
   ],
   "source": [
    "print(f\"Shape of X: {X.shape}\")"
   ]
  },
  {
   "cell_type": "code",
   "execution_count": 11,
   "id": "622edbd8-32f6-4f93-a194-2ba92c1d6e4c",
   "metadata": {},
   "outputs": [],
   "source": [
    "class FitModelClassification:\n",
    "    def __init__(self, X, y, scoring):\n",
    "        self.X_train, self.X_test, self.y_train, self.y_test = train_test_split(X, y, random_state=20)\n",
    "\n",
    "        self.pipeline = Pipeline([('scaler', StandardScaler())])\n",
    "        self.pipeline.fit(self.X_train, self.y_train)\n",
    "\n",
    "        self.X_train = self.pipeline.transform(self.X_train)\n",
    "        self.X_test = self.pipeline.transform(self.X_test)\n",
    "        \n",
    "        self.scoring = scoring\n",
    "\n",
    "    def find_best_model(self, model, params, n_iter=0):\n",
    "        if not n_iter:\n",
    "            grid_search = GridSearchCV(model, params, cv=5, scoring=self.scoring[0],\n",
    "                                       return_train_score=True, n_jobs=-1)\n",
    "            grid_search.fit(self.X_train, self.y_train.flatten())\n",
    "            return grid_search\n",
    "\n",
    "        rnd_search = RandomizedSearchCV(model, param_distributions=params, n_iter=n_iter, cv=5,\n",
    "                                        scoring=self.scoring[0], random_state=20)\n",
    "        rnd_search.fit(self.X_train, self.y_train.flatten())\n",
    "\n",
    "        return rnd_search\n",
    "\n",
    "    def fit_new_model(self, model, params, name, n_iter=0):\n",
    "        best_model = self.find_best_model(model, params, n_iter)\n",
    "        print(f\"{name} best model: {best_model.best_params_}\")\n",
    "\n",
    "        y_train_pred = best_model.predict(self.X_train)\n",
    "        y_test_pred = best_model.predict(self.X_test)\n",
    "\n",
    "        print(f\"{name} {self.scoring[0]}: Train = {self.scoring[1](self.y_train, y_train_pred)} | \"\n",
    "              f\"Test = {self.scoring[1](self.y_test, y_test_pred)}\")\n",
    "\n",
    "        return Pipeline([('pipeline', self.pipeline), (name, best_model.best_estimator_)])"
   ]
  },
  {
   "cell_type": "code",
   "execution_count": 12,
   "id": "24a59fe4-c6bf-40fe-aa47-e52bff5f1c1d",
   "metadata": {},
   "outputs": [],
   "source": [
    "model_regression = FitModelClassification(X, y, (\"accuracy\", accuracy_score))"
   ]
  },
  {
   "cell_type": "code",
   "execution_count": 13,
   "id": "1821f323-29c0-4b78-961f-a8673d0567c9",
   "metadata": {},
   "outputs": [
    {
     "name": "stdout",
     "output_type": "stream",
     "text": [
      "Logistic Regression best model: {'solver': 'saga', 'penalty': 'elasticnet', 'l1_ratio': 0.72, 'C': 0.29000000000000004}\n",
      "Logistic Regression ('accuracy', <function accuracy_score at 0x7fce26b6fc10>): Train = 0.9053333333333333 | Test = 0.884\n"
     ]
    }
   ],
   "source": [
    "params_lr = [\n",
    "    {\"penalty\": [\"l1\", \"l2\"], \n",
    "     \"C\": np.arange(0.01, 3, 0.01),\n",
    "     \"solver\": [\"liblinear\"]},\n",
    "\n",
    "    {\"penalty\": [\"l2\"], \n",
    "     \"C\": np.arange(0.01, 3, 0.01),\n",
    "     \"solver\": [\"sag\"]},\n",
    "\n",
    "    {\"penalty\": [\"l1\", \"l2\"],\n",
    "     \"C\": np.arange(0.01, 3, 0.01),\n",
    "     \"solver\": [\"saga\"]},\n",
    "\n",
    "    {\"penalty\": [\"elasticnet\"],\n",
    "     \"C\": np.arange(0.01, 3, 0.01),\n",
    "     \"l1_ratio\": np.arange(0, 1, 0.01),\n",
    "     \"solver\": [\"saga\"]},\n",
    "]\n",
    "\n",
    "lr_pipeline = model_regression.fit_new_model(LogisticRegression(random_state=20, max_iter=2000),\n",
    "                                             params_lr, \"Logistic Regression\", n_iter=10)"
   ]
  },
  {
   "cell_type": "code",
   "execution_count": 14,
   "id": "712423c7-1435-495d-b7a1-519361bb8db3",
   "metadata": {},
   "outputs": [
    {
     "name": "stdout",
     "output_type": "stream",
     "text": [
      "SVC best model: {'C': 0.04, 'kernel': 'linear'}\n",
      "SVC ('accuracy', <function accuracy_score at 0x7fce26b6fc10>): Train = 0.9053333333333333 | Test = 0.884\n"
     ]
    }
   ],
   "source": [
    "params_svc = [\n",
    "    {\"C\": np.arange(0.01, 3, 0.01),\n",
    "     \"kernel\": [\"linear\", \"poly\", \"rbf\", \"sigmoid\"]}\n",
    "]\n",
    "\n",
    "svc_pipeline = model_regression.fit_new_model(SVC(random_state=20), params_svc, \"SVC\")"
   ]
  },
  {
   "cell_type": "code",
   "execution_count": 15,
   "id": "105f8818-6adb-462b-b5ae-c2ee53485d7f",
   "metadata": {},
   "outputs": [
    {
     "name": "stdout",
     "output_type": "stream",
     "text": [
      "Perceptron best model: {'penalty': 'elasticnet', 'l1_ratio': 0.22, 'eta0': 0.34, 'alpha': 0.002}\n",
      "Perceptron ('accuracy', <function accuracy_score at 0x7fce26b6fc10>): Train = 0.872 | Test = 0.86\n"
     ]
    }
   ],
   "source": [
    "params_perceptron = [\n",
    "    {\"penalty\": [\"elasticnet\"],\n",
    "     \"alpha\": np.arange(0.001, 0.1, 0.001),\n",
    "     \"l1_ratio\": np.arange(0.01, 1, 0.01),\n",
    "     \"eta0\": np.arange(0.01, 2.5, 0.01),\n",
    "    }\n",
    "]\n",
    "\n",
    "perceptron_pipeline = model_regression.fit_new_model(Perceptron(random_state=20, n_jobs=-1), params_perceptron,\n",
    "                                              \"Perceptron\", n_iter=6000)"
   ]
  },
  {
   "cell_type": "code",
   "execution_count": 16,
   "id": "90a3abf6-0ba3-4349-afe0-70a3c4d506d8",
   "metadata": {},
   "outputs": [
    {
     "name": "stdout",
     "output_type": "stream",
     "text": [
      "Ridge Classifier best model: {'alpha': 2.78, 'solver': 'lsqr'}\n",
      "Ridge Classifier ('accuracy', <function accuracy_score at 0x7fce26b6fc10>): Train = 0.904 | Test = 0.884\n"
     ]
    }
   ],
   "source": [
    "params_ridge = [\n",
    "    {\"alpha\": np.arange(0.01, 4, 0.01),\n",
    "     \"solver\": [\"svd\", \"cholesky\", \"lsqr\", \"sparse_cg\", \"sag\", \"saga\"],\n",
    "    }\n",
    "]\n",
    "\n",
    "rfc_pipeline = model_regression.fit_new_model(RidgeClassifier(random_state=20), params_ridge, \"Ridge Classifier\")"
   ]
  },
  {
   "cell_type": "code",
   "execution_count": 17,
   "id": "e3007d33-a0c0-4870-9a9a-1b4a05a872c4",
   "metadata": {},
   "outputs": [
    {
     "name": "stdout",
     "output_type": "stream",
     "text": [
      "KNN best model: {'algorithm': 'ball_tree', 'leaf_size': 1, 'n_neighbors': 18}\n",
      "KNN ('accuracy', <function accuracy_score at 0x7fce26b6fc10>): Train = 0.8906666666666667 | Test = 0.86\n"
     ]
    }
   ],
   "source": [
    "params_knn = [\n",
    "    {\"n_neighbors\": np.arange(4, 20, 1),\n",
    "     \"algorithm\": [\"ball_tree\", \"kd_tree\", \"brute\"],\n",
    "     \"leaf_size\": np.arange(1, 15, 2),\n",
    "    }\n",
    "]\n",
    "\n",
    "knn_pipeline = model_regression.fit_new_model(KNeighborsClassifier(n_jobs=-1), params_knn, \"KNN\")"
   ]
  },
  {
   "cell_type": "code",
   "execution_count": null,
   "id": "57e04b86-ea79-409e-b2ea-1a8bdbcc94c1",
   "metadata": {},
   "outputs": [],
   "source": []
  }
 ],
 "metadata": {
  "kernelspec": {
   "display_name": "Python 3 (ipykernel)",
   "language": "python",
   "name": "python3"
  },
  "language_info": {
   "codemirror_mode": {
    "name": "ipython",
    "version": 3
   },
   "file_extension": ".py",
   "mimetype": "text/x-python",
   "name": "python",
   "nbconvert_exporter": "python",
   "pygments_lexer": "ipython3",
   "version": "3.9.7"
  }
 },
 "nbformat": 4,
 "nbformat_minor": 5
}
